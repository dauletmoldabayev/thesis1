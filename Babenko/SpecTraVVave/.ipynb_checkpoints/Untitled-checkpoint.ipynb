{
 "cells": [
  {
   "cell_type": "code",
   "execution_count": 65,
   "metadata": {
    "collapsed": false
   },
   "outputs": [],
   "source": [
    "from __future__ import division\n",
    "from travwave.diagram import *\n",
    "from travwave.boundary import *\n",
    "from travwave.equations import *\n",
    "from travwave.dynamic import *"
   ]
  },
  {
   "cell_type": "code",
   "execution_count": 3,
   "metadata": {
    "collapsed": false
   },
   "outputs": [],
   "source": [
    "#import mpld3; mpld3.enable_notebook() # this line enable some interactivity on plots\n",
    "from matplotlib import pyplot as plt\n",
    "from pylab import *\n",
    "import numpy as np\n",
    "%matplotlib inline"
   ]
  },
  {
   "cell_type": "code",
   "execution_count": 4,
   "metadata": {
    "collapsed": false
   },
   "outputs": [],
   "source": [
    "L = 2*np.pi\n",
    "kdv_object = kdv.KDV(L)\n",
    "boundary_condition = Mean()\n",
    "Ngrid = 64\n",
    "bd = BifurcationDiagram(kdv_object,boundary_condition, size=Ngrid)\n",
    "bd.initialize()"
   ]
  },
  {
   "cell_type": "code",
   "execution_count": 5,
   "metadata": {
    "collapsed": false
   },
   "outputs": [],
   "source": [
    "n = 20\n",
    "bd.navigation.run(n)"
   ]
  },
  {
   "cell_type": "code",
   "execution_count": 6,
   "metadata": {
    "collapsed": false
   },
   "outputs": [
    {
     "data": {
      "image/png": "[encoded data removed]",
      "text/plain": [
       "<matplotlib.figure.Figure at 0x10bdecdd8>"
      ]
     },
     "metadata": {},
     "output_type": "display_data"
    }
   ],
   "source": [
    "bd.plot_solutions([-1])"
   ]
  },
  {
   "cell_type": "code",
   "execution_count": 7,
   "metadata": {
    "collapsed": false
   },
   "outputs": [
    {
     "data": {
      "image/png": "[encoded data removed]",
      "text/plain": [
       "<matplotlib.figure.Figure at 0x10bdecda0>"
      ]
     },
     "metadata": {},
     "output_type": "display_data"
    }
   ],
   "source": [
    "bd.plot_diagram()"
   ]
  },
  {
   "cell_type": "code",
   "execution_count": 8,
   "metadata": {
    "collapsed": false
   },
   "outputs": [
    {
     "name": "stdout",
     "output_type": "stream",
     "text": [
      "1.815453083e-10\n"
     ]
    },
    {
     "ename": "NameError",
     "evalue": "name 'x' is not defined",
     "output_type": "error",
     "traceback": [
      "\u001b[0;31m---------------------------------------------------------------------------\u001b[0m",
      "\u001b[0;31mNameError\u001b[0m                                 Traceback (most recent call last)",
      "\u001b[0;32m<ipython-input-8-6bb7b1f6c817>\u001b[0m in \u001b[0;36m<module>\u001b[0;34m()\u001b[0m\n\u001b[1;32m      8\u001b[0m \u001b[0mprint\u001b[0m\u001b[0;34m(\u001b[0m\u001b[0mnp\u001b[0m\u001b[0;34m.\u001b[0m\u001b[0mmax\u001b[0m\u001b[0;34m(\u001b[0m\u001b[0mnp\u001b[0m\u001b[0;34m.\u001b[0m\u001b[0mabs\u001b[0m\u001b[0;34m(\u001b[0m\u001b[0merror\u001b[0m\u001b[0;34m)\u001b[0m\u001b[0;34m)\u001b[0m\u001b[0;34m)\u001b[0m\u001b[0;34m\u001b[0m\u001b[0m\n\u001b[1;32m      9\u001b[0m \u001b[0;34m\u001b[0m\u001b[0m\n\u001b[0;32m---> 10\u001b[0;31m \u001b[0mxx\u001b[0m \u001b[0;34m=\u001b[0m \u001b[0mnp\u001b[0m\u001b[0;34m.\u001b[0m\u001b[0mhstack\u001b[0m\u001b[0;34m(\u001b[0m\u001b[0;34m[\u001b[0m\u001b[0;34m-\u001b[0m\u001b[0mx\u001b[0m\u001b[0;34m[\u001b[0m\u001b[0;34m:\u001b[0m\u001b[0;34m:\u001b[0m\u001b[0;34m-\u001b[0m\u001b[0;36m1\u001b[0m\u001b[0;34m]\u001b[0m\u001b[0;34m,\u001b[0m \u001b[0mx\u001b[0m\u001b[0;34m]\u001b[0m\u001b[0;34m)\u001b[0m\u001b[0;34m\u001b[0m\u001b[0m\n\u001b[0m\u001b[1;32m     11\u001b[0m \u001b[0mplot\u001b[0m\u001b[0;34m(\u001b[0m\u001b[0mxx\u001b[0m\u001b[0;34m,\u001b[0m \u001b[0muu\u001b[0m\u001b[0;34m,\u001b[0m \u001b[0;34m'r--'\u001b[0m\u001b[0;34m)\u001b[0m\u001b[0;34m\u001b[0m\u001b[0m\n\u001b[1;32m     12\u001b[0m \u001b[0mplot\u001b[0m\u001b[0;34m(\u001b[0m\u001b[0mxx\u001b[0m\u001b[0;34m,\u001b[0m \u001b[0mt_wave\u001b[0m\u001b[0;34m,\u001b[0m \u001b[0;34m'k'\u001b[0m\u001b[0;34m)\u001b[0m\u001b[0;34m\u001b[0m\u001b[0m\n",
      "\u001b[0;31mNameError\u001b[0m: name 'x' is not defined"
     ]
    }
   ],
   "source": [
    "u = bd.navigation[20]['solution']\n",
    "velocity = bd.navigation[20]['current'][0]\n",
    "dyn = DeFrutos_SanzSerna(kdv_object, u, velocity)\n",
    "uu = dyn.mirror()\n",
    "t_wave = dyn.evolution(solution = uu, nb_steps=int(1e3), periods = 1)\n",
    "\n",
    "error = t_wave - uu\n",
    "print(np.max(np.abs(error)))\n",
    "\n",
    "xx = np.hstack([-x[::-1], x])\n",
    "plot(xx, uu, 'r--')\n",
    "plot(xx, t_wave, 'k')"
   ]
  },
  {
   "cell_type": "code",
   "execution_count": 18,
   "metadata": {
    "collapsed": false
   },
   "outputs": [
    {
     "data": {
      "text/plain": [
       "array([[ 0.92592593,  0.92593384,  0.92595758,  0.92599714,  0.92605252,\n",
       "         0.92612368,  0.92621061,  0.92631329,  0.92643168,  0.92656574,\n",
       "         0.92671545,  0.92688074,  0.92706158,  0.92725791,  0.92746968,\n",
       "         0.92769681,  0.92793924,  0.92819691,  0.92846975,  0.92875766,\n",
       "         0.92906057],\n",
       "       [ 0.        ,  0.005     ,  0.00999997,  0.01499987,  0.01999965,\n",
       "         0.02499925,  0.02999862,  0.03499773,  0.03999651,  0.04499491,\n",
       "         0.0499929 ,  0.05499042,  0.05998743,  0.06498388,  0.06997972,\n",
       "         0.0749749 ,  0.0799694 ,  0.08496315,  0.08995612,  0.09494827,\n",
       "         0.09993955]])"
      ]
     },
     "execution_count": 18,
     "metadata": {},
     "output_type": "execute_result"
    }
   ],
   "source": [
    "bd.plot_data()"
   ]
  },
  {
   "cell_type": "code",
   "execution_count": 7,
   "metadata": {
    "collapsed": true
   },
   "outputs": [],
   "source": [
    "from travwave.discretization import *"
   ]
  },
  {
   "cell_type": "code",
   "execution_count": 8,
   "metadata": {
    "collapsed": true
   },
   "outputs": [],
   "source": [
    "D = Discretization(kdv_object, Ngrid)"
   ]
  },
  {
   "cell_type": "code",
   "execution_count": 9,
   "metadata": {
    "collapsed": false
   },
   "outputs": [
    {
     "data": {
      "text/plain": [
       "array([ 0.75,  3.  ,  6.75])"
      ]
     },
     "execution_count": 9,
     "metadata": {},
     "output_type": "execute_result"
    }
   ],
   "source": [
    "D.equation.flux(np.array([1,2,3]))"
   ]
  },
  {
   "cell_type": "code",
   "execution_count": 10,
   "metadata": {
    "collapsed": false
   },
   "outputs": [],
   "source": [
    "xx = D.get_nodes()"
   ]
  },
  {
   "cell_type": "code",
   "execution_count": 11,
   "metadata": {
    "collapsed": true
   },
   "outputs": [
    {
     "data": {
      "text/plain": [
       "[<matplotlib.lines.Line2D at 0x1127e3860>]"
      ]
     },
     "execution_count": 11,
     "metadata": {},
     "output_type": "execute_result"
    },
    {
     "data": {
      "image/png": "[encoded data removed]",
      "text/plain": [
       "<matplotlib.figure.Figure at 0x1120e0dd8>"
      ]
     },
     "metadata": {},
     "output_type": "display_data"
    }
   ],
   "source": [
    "plot(xx,0.01*np.cos(xx))"
   ]
  },
  {
   "cell_type": "code",
   "execution_count": null,
   "metadata": {
    "collapsed": true
   },
   "outputs": [],
   "source": [
    "L = 30\n",
    "Ngrid = 512\n",
    "wh_obj = whitham.Whitham(L)\n",
    "#boundary_condition = Const() # solutions with integration constant B = 0\n",
    "boundary_condition = Minimum() # to compute solitary waves\n",
    "bd_wh = BifurcationDiagram(wh_obj, boundary_condition, Ngrid)\n",
    "bd_wh.initialize()"
   ]
  },
  {
   "cell_type": "code",
   "execution_count": 66,
   "metadata": {
    "collapsed": true
   },
   "outputs": [],
   "source": [
    "n = 20\n",
    "bd_wh.navigation.run(n)"
   ]
  },
  {
   "cell_type": "code",
   "execution_count": 67,
   "metadata": {
    "collapsed": false
   },
   "outputs": [
    {
     "data": {
      "image/png": "[encoded data removed]",
      "text/plain": [
       "<matplotlib.figure.Figure at 0x11340bb00>"
      ]
     },
     "metadata": {},
     "output_type": "display_data"
    }
   ],
   "source": [
    "bd_wh.plot_diagram()"
   ]
  },
  {
   "cell_type": "code",
   "execution_count": 73,
   "metadata": {
    "collapsed": false
   },
   "outputs": [
    {
     "name": "stdout",
     "output_type": "stream",
     "text": [
      "0.65343581176\n"
     ]
    },
    {
     "data": {
      "text/plain": [
       "[<matplotlib.lines.Line2D at 0x10bb83c50>]"
      ]
     },
     "execution_count": 73,
     "metadata": {},
     "output_type": "execute_result"
    },
    {
     "data": {
      "image/png": "[encoded data removed]",
      "text/plain": [
       "<matplotlib.figure.Figure at 0x114408cc0>"
      ]
     },
     "metadata": {},
     "output_type": "display_data"
    }
   ],
   "source": [
    "k = -1\n",
    "u = bd_wh.navigation[k]['solution']\n",
    "velocity = bd_wh.navigation[k]['current'][0]\n",
    "dyn = Trapezoidal_rule(wh_obj, u, velocity)\n",
    "uu = dyn.mirror()\n",
    "t_wave = dyn.evolution(solution = uu, nb_steps=int(1e4), periods = 6)\n",
    "\n",
    "error = t_wave - uu\n",
    "print(np.max(np.abs(error)))\n",
    "x = bd_wh.discretization.get_nodes()\n",
    "xx = np.hstack([-x[::-1], x])\n",
    "plot(xx, uu, 'r--')\n",
    "plot(xx, t_wave, 'k')"
   ]
  },
  {
   "cell_type": "code",
   "execution_count": 12,
   "metadata": {
    "collapsed": false
   },
   "outputs": [
    {
     "data": {
      "text/plain": [
       "{'current': (0.87267584845809087, 0.0050000000000000001),\n",
       " 'integration constant': array([  2.98268610e-27]),\n",
       " 'previous': (0.87269362089782965, 0),\n",
       " 'solution': array([  2.49470786e-03,   2.48855710e-03,   2.47627135e-03,\n",
       "          2.45788208e-03,   2.43343642e-03,   2.40299695e-03,\n",
       "          2.36664155e-03,   2.32446316e-03,   2.27656952e-03,\n",
       "          2.22308281e-03,   2.16413931e-03,   2.09988901e-03,\n",
       "          2.03049515e-03,   1.95613374e-03,   1.87699307e-03,\n",
       "          1.79327312e-03,   1.70518506e-03,   1.61295056e-03,\n",
       "          1.51680125e-03,   1.41697800e-03,   1.31373028e-03,\n",
       "          1.20731548e-03,   1.09799817e-03,   9.86049431e-04,\n",
       "          8.71746098e-04,   7.55370027e-04,   6.37207363e-04,\n",
       "          5.17547791e-04,   3.96683796e-04,   2.74909916e-04,\n",
       "          1.52522002e-04,   2.98164894e-05,  -9.29103342e-05,\n",
       "         -2.15363044e-04,  -3.37247786e-04,  -4.58272969e-04,\n",
       "         -5.78149946e-04,  -6.96593682e-04,  -8.13323395e-04,\n",
       "         -9.28063194e-04,  -1.04054269e-03,  -1.15049757e-03,\n",
       "         -1.25767021e-03,  -1.36181018e-03,  -1.46267479e-03,\n",
       "         -1.56002962e-03,  -1.65364896e-03,  -1.74331629e-03,\n",
       "         -1.82882473e-03,  -1.90997742e-03,  -1.98658794e-03,\n",
       "         -2.05848067e-03,  -2.12549110e-03,  -2.18746618e-03,\n",
       "         -2.24426458e-03,  -2.29575698e-03,  -2.34182632e-03,\n",
       "         -2.38236798e-03,  -2.41729000e-03,  -2.44651325e-03,\n",
       "         -2.46997157e-03,  -2.48761187e-03,  -2.49939428e-03,\n",
       "         -2.50529214e-03])}"
      ]
     },
     "execution_count": 12,
     "metadata": {},
     "output_type": "execute_result"
    }
   ],
   "source": [
    "bd_wh.navigation[1]"
   ]
  },
  {
   "cell_type": "code",
   "execution_count": 17,
   "metadata": {
    "collapsed": false
   },
   "outputs": [
    {
     "data": {
      "text/plain": [
       "2.220446e-16"
      ]
     },
     "execution_count": 17,
     "metadata": {},
     "output_type": "execute_result"
    }
   ],
   "source": [
    "import sys\n",
    "eps = sys.float_info.epsilon\n",
    "float32(eps)\n",
    "\n"
   ]
  },
  {
   "cell_type": "code",
   "execution_count": 49,
   "metadata": {
    "collapsed": true
   },
   "outputs": [],
   "source": [
    "x = bd_wh.discretization.get_nodes()"
   ]
  },
  {
   "cell_type": "code",
   "execution_count": 68,
   "metadata": {
    "collapsed": false
   },
   "outputs": [],
   "source": [
    "y = bd_wh.navigation[-1]['solution']"
   ]
  },
  {
   "cell_type": "code",
   "execution_count": 69,
   "metadata": {
    "collapsed": false
   },
   "outputs": [
    {
     "data": {
      "text/plain": [
       "[<matplotlib.lines.Line2D at 0x1133f0c18>]"
      ]
     },
     "execution_count": 69,
     "metadata": {},
     "output_type": "execute_result"
    },
    {
     "data": {
      "image/png": "[encoded data removed]",
      "text/plain": [
       "<matplotlib.figure.Figure at 0x113542518>"
      ]
     },
     "metadata": {},
     "output_type": "display_data"
    }
   ],
   "source": [
    "plot(x,y)"
   ]
  },
  {
   "cell_type": "code",
   "execution_count": 53,
   "metadata": {
    "collapsed": false
   },
   "outputs": [
    {
     "data": {
      "text/plain": [
       "array([  6.63697808e-12,   3.91856845e-12,   1.65698658e-12,\n",
       "         3.09116626e-13,   3.58702992e-72])"
      ]
     },
     "execution_count": 53,
     "metadata": {},
     "output_type": "execute_result"
    }
   ],
   "source": [
    "y[-5:]"
   ]
  },
  {
   "cell_type": "code",
   "execution_count": 17,
   "metadata": {
    "collapsed": false
   },
   "outputs": [
    {
     "data": {
      "text/plain": [
       "(128,)"
      ]
     },
     "execution_count": 17,
     "metadata": {},
     "output_type": "execute_result"
    }
   ],
   "source": [
    "xx.shape"
   ]
  },
  {
   "cell_type": "code",
   "execution_count": 18,
   "metadata": {
    "collapsed": false
   },
   "outputs": [
    {
     "data": {
      "text/plain": [
       "(128,)"
      ]
     },
     "execution_count": 18,
     "metadata": {},
     "output_type": "execute_result"
    }
   ],
   "source": [
    "uu.shape"
   ]
  },
  {
   "cell_type": "code",
   "execution_count": 19,
   "metadata": {
    "collapsed": false
   },
   "outputs": [
    {
     "data": {
      "text/plain": [
       "(128,)"
      ]
     },
     "execution_count": 19,
     "metadata": {},
     "output_type": "execute_result"
    }
   ],
   "source": [
    "t_wave.shape"
   ]
  },
  {
   "cell_type": "code",
   "execution_count": null,
   "metadata": {
    "collapsed": true
   },
   "outputs": [],
   "source": [
    "wh_ice = whitham."
   ]
  }
 ],
 "metadata": {
  "kernelspec": {
   "display_name": "Python 3",
   "language": "python",
   "name": "python3"
  },
  "language_info": {
   "codemirror_mode": {
    "name": "ipython",
    "version": 3
   },
   "file_extension": ".py",
   "mimetype": "text/x-python",
   "name": "python",
   "nbconvert_exporter": "python",
   "pygments_lexer": "ipython3",
   "version": "3.5.1"
  }
 },
 "nbformat": 4,
 "nbformat_minor": 0
}
